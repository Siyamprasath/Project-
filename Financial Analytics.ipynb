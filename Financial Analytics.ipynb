{
  "nbformat": 4,
  "nbformat_minor": 0,
  "metadata": {
    "colab": {
      "provenance": []
    },
    "kernelspec": {
      "name": "python3",
      "display_name": "Python 3"
    },
    "language_info": {
      "name": "python"
    }
  },
  "cells": [
    {
      "cell_type": "code",
      "source": [
        "import pandas as pd\n",
        "import matplotlib.pyplot as plt\n",
        "import seaborn as sns"
      ],
      "metadata": {
        "id": "Atd8Sa0BZVLZ"
      },
      "execution_count": 1,
      "outputs": []
    },
    {
      "cell_type": "code",
      "source": [
        "\n",
        "input_file_path = '/content/Financial Analytics data.csv'\n",
        "\n",
        "\n"
      ],
      "metadata": {
        "id": "U2y38vEDZiwy"
      },
      "execution_count": 8,
      "outputs": []
    },
    {
      "cell_type": "code",
      "source": [
        "df= pd.read_excel"
      ],
      "metadata": {
        "id": "7925ZZhmasTL"
      },
      "execution_count": 15,
      "outputs": []
    },
    {
      "cell_type": "code",
      "source": [
        "df.dropna(inplace=True)"
      ],
      "metadata": {
        "id": "6wcACpXPaGIA"
      },
      "execution_count": 17,
      "outputs": []
    },
    {
      "cell_type": "code",
      "source": [
        "df.drop_duplicates(inplace=True)"
      ],
      "metadata": {
        "id": "jX7lxol7a3HK"
      },
      "execution_count": 17,
      "outputs": []
    },
    {
      "cell_type": "code",
      "source": [
        "print(df.isnull().sum())"
      ],
      "metadata": {
        "id": "GfUZKrBxf9aw"
      },
      "execution_count": null,
      "outputs": []
    },
    {
      "cell_type": "code",
      "source": [
        "df.rename(columns={'Mar Cap – Crore': 'Market Cap (Crore)', 'Sales Qtr – Crore': 'Quarterly Sales (Crore)'}, inplace=True)\n",
        "\n",
        "print(df.head())"
      ],
      "metadata": {
        "id": "GKPW8ZU2gDtt"
      },
      "execution_count": null,
      "outputs": []
    },
    {
      "cell_type": "code",
      "source": [
        "\n",
        "df['Date'] = pd.to_datetime(df['Date'], errors='coerce')\n",
        "\n",
        "\n",
        "\n"
      ],
      "metadata": {
        "id": "4ivnHm4ua41w"
      },
      "execution_count": 17,
      "outputs": []
    },
    {
      "cell_type": "code",
      "source": [
        "\n",
        "df.dropna(subset=['Date'], inplace=True)\n",
        "\n"
      ],
      "metadata": {
        "id": "uMD8T7a3fXe9"
      },
      "execution_count": null,
      "outputs": []
    },
    {
      "cell_type": "code",
      "source": [
        "\n",
        "df.set_index('Date', inplace=True)\n",
        "\n"
      ],
      "metadata": {
        "id": "g1o7p1byfcmc"
      },
      "execution_count": null,
      "outputs": []
    },
    {
      "cell_type": "code",
      "source": [
        "\n",
        "df.sort_index(inplace=True)\n",
        "\n"
      ],
      "metadata": {
        "id": "aYXG-KDHfcnp"
      },
      "execution_count": null,
      "outputs": []
    },
    {
      "cell_type": "code",
      "source": [
        "\n",
        "print(\"\\nCleaned Data:\")\n",
        "print(df.head())"
      ],
      "metadata": {
        "id": "L3o9a6orfjKX"
      },
      "execution_count": null,
      "outputs": []
    },
    {
      "cell_type": "code",
      "source": [],
      "metadata": {
        "id": "TmeQRFgufcrl"
      },
      "execution_count": null,
      "outputs": []
    }
  ]
}